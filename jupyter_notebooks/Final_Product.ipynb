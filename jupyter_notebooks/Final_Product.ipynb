{
 "cells": [
  {
   "cell_type": "code",
   "execution_count": null,
   "metadata": {},
   "outputs": [],
   "source": [
    "import requests\n",
    "from bs4 import BeautifulSoup\n",
    "import pandas as pd"
   ]
  },
  {
   "cell_type": "code",
   "execution_count": null,
   "metadata": {},
   "outputs": [],
   "source": [
    "def get_quote(soup):\n",
    "    # locate target elements from the soup\n",
    "    quote_text = soup.find('span')\n",
    "    author = soup.find('small')\n",
    "    author_url = soup.find('a')\n",
    "    tags = soup.find_all('a', {'class': 'tag'})\n",
    "\n",
    "    # extract information from the retrieved elements\n",
    "    quote_text = quote_text.text\n",
    "    author = author.text\n",
    "    author_url = author_url.get('href')\n",
    "    tags_ls = []\n",
    "    for tag in tags:\n",
    "        tag = tag.text\n",
    "        tags_ls.append(tag)  \n",
    "    \n",
    "    # sort the info retrieved\n",
    "    author_url = 'http://quotes.toscrape.com' + author_url\n",
    "    tags = ';'.join(tags_ls)\n",
    "    \n",
    "    # store the results\n",
    "    results_dt = {\n",
    "    'author': author,\n",
    "    'author_url': author_url,\n",
    "    'tags': ';'.join(tags_ls), \n",
    "    'quote_text': quote_text\n",
    "    }\n",
    "    \n",
    "    return results_dt"
   ]
  },
  {
   "cell_type": "code",
   "execution_count": null,
   "metadata": {},
   "outputs": [],
   "source": [
    "def get_quotes(page_number):\n",
    "    # define the URL\n",
    "    base_url = 'http://quotes.toscrape.com/page/'\n",
    "    page_number = str(page_number)\n",
    "    url = base_url + page_number\n",
    "    \n",
    "    # make a request to retrieve HTML codes and make the soup\n",
    "    r = requests.get(url)\n",
    "    c = r.content\n",
    "    soup = BeautifulSoup(c, 'lxml')\n",
    "    \n",
    "    # locate all the quotes\n",
    "    quotes = soup.find_all('div', {'class': 'quote'})\n",
    "    \n",
    "    # parse each quote using for loops\n",
    "    outputs = []\n",
    "    for quote in quotes:\n",
    "        quote = get_quote(quote)\n",
    "        outputs.append(quote)\n",
    "        \n",
    "    # return the outputs\n",
    "    return outputs"
   ]
  },
  {
   "cell_type": "code",
   "execution_count": null,
   "metadata": {},
   "outputs": [],
   "source": [
    "def scrape_quotes(start, end):\n",
    "    outputs = []\n",
    "    for i in list(range(start, end + 1)):\n",
    "        outputs += get_quotes(i)\n",
    "    outputs = pd.DataFrame(outputs)\n",
    "    return outputs"
   ]
  },
  {
   "cell_type": "code",
   "execution_count": null,
   "metadata": {},
   "outputs": [],
   "source": [
    "outputs = scrape_quotes(1, 10)"
   ]
  },
  {
   "cell_type": "code",
   "execution_count": null,
   "metadata": {},
   "outputs": [],
   "source": [
    "outputs.head()"
   ]
  },
  {
   "cell_type": "code",
   "execution_count": null,
   "metadata": {},
   "outputs": [],
   "source": [
    "outputs.to_csv('quotes_extracted.csv')"
   ]
  },
  {
   "cell_type": "code",
   "execution_count": null,
   "metadata": {},
   "outputs": [],
   "source": []
  }
 ],
 "metadata": {
  "kernelspec": {
   "display_name": "Python 3",
   "language": "python",
   "name": "python3"
  },
  "language_info": {
   "codemirror_mode": {
    "name": "ipython",
    "version": 3
   },
   "file_extension": ".py",
   "mimetype": "text/x-python",
   "name": "python",
   "nbconvert_exporter": "python",
   "pygments_lexer": "ipython3",
   "version": "3.7.3"
  }
 },
 "nbformat": 4,
 "nbformat_minor": 2
}
