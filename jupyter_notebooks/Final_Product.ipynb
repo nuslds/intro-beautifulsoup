{
 "cells": [
  {
   "cell_type": "code",
   "execution_count": 1,
   "metadata": {
    "collapsed": true
   },
   "outputs": [],
   "source": [
    "import requests\n",
    "from bs4 import BeautifulSoup\n",
    "import pandas as pd"
   ]
  },
  {
   "cell_type": "code",
   "execution_count": 2,
   "metadata": {
    "collapsed": true
   },
   "outputs": [],
   "source": [
    "def get_quote(soup):\n",
    "    # Make the soup\n",
    "    # soup = BeautifulSoup(text)\n",
    "    \n",
    "    # Locate target elements from the soup\n",
    "    quote_text = soup.find('span')\n",
    "    author = soup.find('small')\n",
    "    author_url = soup.find('a')\n",
    "    tags = soup.find_all('a', {'class': 'tag'})\n",
    "\n",
    "    # Extract information from the retrieved elements\n",
    "    quote_text = quote_text.text\n",
    "    author = author.text\n",
    "    author_url = author_url.get('href')\n",
    "    tags_list = []\n",
    "    for tag in tags:\n",
    "        tags_list.append(tag.text)\n",
    "    \n",
    "    # Tidy up the retrieved outputs\n",
    "    author_url = 'http://quotes.toscrape.com' + author_url\n",
    "    tags = ';'.join(tags_list)\n",
    "    \n",
    "    # Store the results\n",
    "    results_dictionary = {\n",
    "      'quote_text': quote_text,\n",
    "      'author': author,\n",
    "      'author_url': author_url,\n",
    "      'tags': tags\n",
    "    }\n",
    "    \n",
    "    return results_dictionary"
   ]
  },
  {
   "cell_type": "code",
   "execution_count": 3,
   "metadata": {
    "collapsed": true
   },
   "outputs": [],
   "source": [
    "def get_quotes(page_number):\n",
    "    # define the URL\n",
    "    base_url = 'http://quotes.toscrape.com/page/'\n",
    "    page_number = str(page_number)\n",
    "    url = base_url + page_number\n",
    "    \n",
    "    # make a request to retrieve HTML codes and make the soup\n",
    "    r = requests.get(url)\n",
    "    c = r.content\n",
    "    soup = BeautifulSoup(c, 'lxml')\n",
    "    \n",
    "    # locate all the quotes\n",
    "    quotes = soup.find_all('div', {'class': 'quote'})\n",
    "    \n",
    "    # parse each quote using for loops\n",
    "    outputs = []\n",
    "    for quote in quotes:\n",
    "        quote = get_quote(quote)\n",
    "        outputs.append(quote)\n",
    "        \n",
    "    # return the outputs\n",
    "    return outputs"
   ]
  },
  {
   "cell_type": "code",
   "execution_count": 4,
   "metadata": {
    "collapsed": true
   },
   "outputs": [],
   "source": [
    "def scrape_quotes(start, end):\n",
    "    outputs = []\n",
    "    for i in list(range(start, end + 1)):\n",
    "        outputs += get_quotes(i)\n",
    "    outputs = pd.DataFrame(outputs)\n",
    "    return outputs"
   ]
  },
  {
   "cell_type": "code",
   "execution_count": 5,
   "metadata": {
    "collapsed": true
   },
   "outputs": [],
   "source": [
    "outputs = scrape_quotes(1, 10)"
   ]
  },
  {
   "cell_type": "code",
   "execution_count": 6,
   "metadata": {},
   "outputs": [
    {
     "data": {
      "text/html": [
       "<div>\n",
       "<style scoped>\n",
       "    .dataframe tbody tr th:only-of-type {\n",
       "        vertical-align: middle;\n",
       "    }\n",
       "\n",
       "    .dataframe tbody tr th {\n",
       "        vertical-align: top;\n",
       "    }\n",
       "\n",
       "    .dataframe thead th {\n",
       "        text-align: right;\n",
       "    }\n",
       "</style>\n",
       "<table border=\"1\" class=\"dataframe\">\n",
       "  <thead>\n",
       "    <tr style=\"text-align: right;\">\n",
       "      <th></th>\n",
       "      <th>author</th>\n",
       "      <th>author_url</th>\n",
       "      <th>quote_text</th>\n",
       "      <th>tags</th>\n",
       "    </tr>\n",
       "  </thead>\n",
       "  <tbody>\n",
       "    <tr>\n",
       "      <th>0</th>\n",
       "      <td>Albert Einstein</td>\n",
       "      <td>http://quotes.toscrape.com/author/Albert-Einstein</td>\n",
       "      <td>“The world as we have created it is a process ...</td>\n",
       "      <td>change;deep-thoughts;thinking;world</td>\n",
       "    </tr>\n",
       "    <tr>\n",
       "      <th>1</th>\n",
       "      <td>J.K. Rowling</td>\n",
       "      <td>http://quotes.toscrape.com/author/J-K-Rowling</td>\n",
       "      <td>“It is our choices, Harry, that show what we t...</td>\n",
       "      <td>abilities;choices</td>\n",
       "    </tr>\n",
       "    <tr>\n",
       "      <th>2</th>\n",
       "      <td>Albert Einstein</td>\n",
       "      <td>http://quotes.toscrape.com/author/Albert-Einstein</td>\n",
       "      <td>“There are only two ways to live your life. On...</td>\n",
       "      <td>inspirational;life;live;miracle;miracles</td>\n",
       "    </tr>\n",
       "    <tr>\n",
       "      <th>3</th>\n",
       "      <td>Jane Austen</td>\n",
       "      <td>http://quotes.toscrape.com/author/Jane-Austen</td>\n",
       "      <td>“The person, be it gentleman or lady, who has ...</td>\n",
       "      <td>aliteracy;books;classic;humor</td>\n",
       "    </tr>\n",
       "    <tr>\n",
       "      <th>4</th>\n",
       "      <td>Marilyn Monroe</td>\n",
       "      <td>http://quotes.toscrape.com/author/Marilyn-Monroe</td>\n",
       "      <td>“Imperfection is beauty, madness is genius and...</td>\n",
       "      <td>be-yourself;inspirational</td>\n",
       "    </tr>\n",
       "  </tbody>\n",
       "</table>\n",
       "</div>"
      ],
      "text/plain": [
       "            author                                         author_url  \\\n",
       "0  Albert Einstein  http://quotes.toscrape.com/author/Albert-Einstein   \n",
       "1     J.K. Rowling      http://quotes.toscrape.com/author/J-K-Rowling   \n",
       "2  Albert Einstein  http://quotes.toscrape.com/author/Albert-Einstein   \n",
       "3      Jane Austen      http://quotes.toscrape.com/author/Jane-Austen   \n",
       "4   Marilyn Monroe   http://quotes.toscrape.com/author/Marilyn-Monroe   \n",
       "\n",
       "                                          quote_text  \\\n",
       "0  “The world as we have created it is a process ...   \n",
       "1  “It is our choices, Harry, that show what we t...   \n",
       "2  “There are only two ways to live your life. On...   \n",
       "3  “The person, be it gentleman or lady, who has ...   \n",
       "4  “Imperfection is beauty, madness is genius and...   \n",
       "\n",
       "                                       tags  \n",
       "0       change;deep-thoughts;thinking;world  \n",
       "1                         abilities;choices  \n",
       "2  inspirational;life;live;miracle;miracles  \n",
       "3             aliteracy;books;classic;humor  \n",
       "4                 be-yourself;inspirational  "
      ]
     },
     "execution_count": 6,
     "metadata": {},
     "output_type": "execute_result"
    }
   ],
   "source": [
    "outputs.head()"
   ]
  },
  {
   "cell_type": "code",
   "execution_count": 7,
   "metadata": {},
   "outputs": [],
   "source": [
    "outputs.to_csv('quotes_extracted.csv')"
   ]
  },
  {
   "cell_type": "code",
   "execution_count": null,
   "metadata": {
    "collapsed": true
   },
   "outputs": [],
   "source": []
  }
 ],
 "metadata": {
  "kernelspec": {
   "display_name": "Python 3",
   "language": "python",
   "name": "python3"
  },
  "language_info": {
   "codemirror_mode": {
    "name": "ipython",
    "version": 3
   },
   "file_extension": ".py",
   "mimetype": "text/x-python",
   "name": "python",
   "nbconvert_exporter": "python",
   "pygments_lexer": "ipython3",
   "version": "3.6.1"
  }
 },
 "nbformat": 4,
 "nbformat_minor": 2
}
