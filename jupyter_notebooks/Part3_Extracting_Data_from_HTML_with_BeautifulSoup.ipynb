{
 "cells": [
  {
   "cell_type": "markdown",
   "metadata": {},
   "source": [
    "# Part III. Extracting Data from HTML with BeautifulSoup\n",
    "\n",
    "## The Task\n",
    "In Part III, we will create a reusable function to extract information below from the HTML strings of a single quote on [Quotes to Scrape](http://quotes.toscrape.com/).\n",
    "\n",
    "| **Variable Name** | **Description**                                        |\n",
    "| :---------------- | :----------------------------------------------------- |\n",
    "| quote_text        | Text of the quote                                      |\n",
    "| author            | Name of the author                                     |\n",
    "| author_url        | URL of the author page, e.g. '/author/Albert-Einstein' |\n",
    "| tags              | Tags that assigned to the quote                        |\n",
    "\n",
    "\n",
    "## Main Steps\n",
    "\n",
    "- Import BeautifulSoup Library\n",
    "- Make the soup\n",
    "- Locate target elements from the soup\n",
    "- Extract information from the retrieved elements\n",
    "- Tidy up the retrieved outputs\n",
    "- Store the results\n",
    "- Create a reusable function"
   ]
  },
  {
   "cell_type": "markdown",
   "metadata": {},
   "source": [
    "## The Sample Quote\n",
    "We will start by extracting the four target elements from a sample quote defined as `quote` below."
   ]
  },
  {
   "cell_type": "code",
   "execution_count": null,
   "metadata": {},
   "outputs": [],
   "source": [
    "quote = '''\n",
    "<div class=\"quote\" itemscope=\"\" itemtype=\"http://schema.org/CreativeWork\">\n",
    "  <span class=\"text\">“The world as we have created it is a process of our thinking. It cannot be changed without changing our thinking.”</span>\n",
    "  <span>by <small class=\"author\">Albert Einstein</small>\n",
    "    <a href=\"/author/Albert-Einstein\">(about)</a>\n",
    "  </span>\n",
    "  <div class=\"tags\">Tags:\n",
    "    <a class=\"tag\" href=\"/tag/change/page/1/\">change</a>\n",
    "    <a class=\"tag\" href=\"/tag/deep-thoughts/page/1/\">deep-thoughts</a>\n",
    "    <a class=\"tag\" href=\"/tag/thinking/page/1/\">thinking</a>\n",
    "    <a class=\"tag\" href=\"/tag/world/page/1/\">world</a>\n",
    "  </div>\n",
    "</div>\n",
    "'''"
   ]
  },
  {
   "cell_type": "markdown",
   "metadata": {},
   "source": [
    "## Step 1. Import BeautifulSoup library"
   ]
  },
  {
   "cell_type": "code",
   "execution_count": null,
   "metadata": {},
   "outputs": [],
   "source": [
    "from bs4 import BeautifulSoup"
   ]
  },
  {
   "cell_type": "markdown",
   "metadata": {},
   "source": [
    "## Step 2.  Make the soup"
   ]
  },
  {
   "cell_type": "code",
   "execution_count": null,
   "metadata": {},
   "outputs": [],
   "source": [
    "soup = BeautifulSoup(quote)"
   ]
  },
  {
   "cell_type": "markdown",
   "metadata": {},
   "source": [
    "## Step 3. Locate target elements from soup\n",
    "### Locate elements by tag names"
   ]
  },
  {
   "cell_type": "markdown",
   "metadata": {},
   "source": [
    "| &nbsp;&nbsp;&nbsp;&nbsp;&nbsp;&nbsp;&nbsp;&nbsp;&nbsp;&nbsp; &nbsp;&nbsp;&nbsp;&nbsp;&nbsp;&nbsp;&nbsp;&nbsp; &nbsp;&nbsp;&nbsp;&nbsp;&nbsp; | Finding item(s) by <br>Tag Name, e.g., span | Output<br>Type| Remarks                                                    |\n",
    "| :-------------- | :-------------------------------------- | :---------- | :--------------------------------------------------------- |\n",
    "| soup.find()     | soup.find('span')                       | Item        | Recommended when you are looking for a single item.          |\n",
    "| soup.find_all() | soup.find_all('span')                   | List of items        | Recommended when you are looking for a set of items.         |\n",
    "| soup.select()   | soup.select('span')                     | List of items        | Recommended when you are looking for items by CSS selectors. |"
   ]
  },
  {
   "cell_type": "code",
   "execution_count": null,
   "metadata": {},
   "outputs": [],
   "source": [
    "quote_text = soup.find('span')\n",
    "author = soup.find('small')\n",
    "author_url = soup.find('a')\n",
    "tags = soup.find_all('a')"
   ]
  },
  {
   "cell_type": "markdown",
   "metadata": {},
   "source": [
    "### Locate elements by tag names and attributues"
   ]
  },
  {
   "cell_type": "markdown",
   "metadata": {},
   "source": [
    "| &nbsp;&nbsp;&nbsp;&nbsp;&nbsp;&nbsp;&nbsp;&nbsp;&nbsp;&nbsp; &nbsp;&nbsp;&nbsp;&nbsp;&nbsp;&nbsp;&nbsp;&nbsp; &nbsp;&nbsp;&nbsp;&nbsp;&nbsp; | Finding item(s) by <br>Tag Name, e.g., span &nbsp;&nbsp;&nbsp;&nbsp;&nbsp;| Finding item(s) by attributes, <br>e.g., class=\"author\" &nbsp;&nbsp;&nbsp;&nbsp;&nbsp;|\n",
    "| :-------------- | :-------------------------------------- | :-------------------------------------------------- |\n",
    "| soup.find()     | soup.find('span')                       | soup.find('span', {'class': 'author'})              |\n",
    "| soup.find_all() | soup.find_all('span')                   | soup.find_all('span', {'class': 'author'})          |\n",
    "| soup.select()   | soup.select('span')                     | soup.select ('span .author')                             |"
   ]
  },
  {
   "cell_type": "code",
   "execution_count": null,
   "metadata": {},
   "outputs": [],
   "source": [
    "tags = soup.find_all('a', {'class': 'tag'})"
   ]
  },
  {
   "cell_type": "markdown",
   "metadata": {},
   "source": [
    "## Step 4. Extract information from the elements retrieved\n",
    "### Retrieve the attribute value of an HTML element\n",
    "For e.g., the get the value of the attribute `href` for the element `ele`<br>\n",
    "`ele.get('href')`"
   ]
  },
  {
   "cell_type": "code",
   "execution_count": null,
   "metadata": {},
   "outputs": [],
   "source": [
    "author_url = author_url.get('href')"
   ]
  },
  {
   "cell_type": "markdown",
   "metadata": {},
   "source": [
    "### Retrieve the content from an HTML element\n",
    "For e.g., to get the content of an element `ele`\n",
    "<br>\n",
    "`ele.text`"
   ]
  },
  {
   "cell_type": "code",
   "execution_count": null,
   "metadata": {},
   "outputs": [],
   "source": [
    "quote_text = quote_text.text\n",
    "author = author.text"
   ]
  },
  {
   "cell_type": "code",
   "execution_count": null,
   "metadata": {},
   "outputs": [],
   "source": [
    "tags_list = []\n",
    "for tag in tags:\n",
    "    tags_list.append(tag.text)"
   ]
  },
  {
   "cell_type": "markdown",
   "metadata": {},
   "source": [
    "## Step 5. Tidy up the retrieved outputs"
   ]
  },
  {
   "cell_type": "markdown",
   "metadata": {},
   "source": [
    "1. Add the domain 'http://quotes.toscrape.com' to the author url"
   ]
  },
  {
   "cell_type": "code",
   "execution_count": null,
   "metadata": {},
   "outputs": [],
   "source": [
    "author_url = 'http://quotes.toscrape.com' + author_url"
   ]
  },
  {
   "cell_type": "markdown",
   "metadata": {},
   "source": [
    "2. Convert the list of tags as a text string and seperate the tags with `;`. Overwrite the variable `tags` with the outputs."
   ]
  },
  {
   "cell_type": "code",
   "execution_count": null,
   "metadata": {},
   "outputs": [],
   "source": [
    "tags = ';'.join(tags_list)"
   ]
  },
  {
   "cell_type": "markdown",
   "metadata": {},
   "source": [
    "## Step 6. Store the result set into a dictionary"
   ]
  },
  {
   "cell_type": "code",
   "execution_count": null,
   "metadata": {},
   "outputs": [],
   "source": [
    "results_dictionary = {\n",
    "  'quote_text': quote_text,\n",
    "  'author': author,\n",
    "  'author_url': author_url,\n",
    "  'tags': tags\n",
    "}"
   ]
  },
  {
   "cell_type": "markdown",
   "metadata": {},
   "source": [
    "## Step 7. Create a reusable function\n",
    "Don't waste your efforts! Make you codes resuable to other HTML strings with same patterns by creating a reusable function"
   ]
  },
  {
   "cell_type": "code",
   "execution_count": null,
   "metadata": {},
   "outputs": [],
   "source": [
    "def get_quote(text):\n",
    "    # Make the soup\n",
    "    soup = BeautifulSoup(text, \"lxml\")\n",
    "    \n",
    "    # Locate target elements from the soup\n",
    "    quote_text = soup.find('span')\n",
    "    author = soup.find('small')\n",
    "    author_url = soup.find('a')\n",
    "    tags = soup.find_all('a', {'class': 'tag'})\n",
    "\n",
    "    # Extract information from the retrieved elements\n",
    "    quote_text = quote_text.text\n",
    "    author = author.text\n",
    "    author_url = author_url.get('href')\n",
    "    tags_ls = []\n",
    "    for tag in tags:\n",
    "        tag = tag.text\n",
    "        tags_ls.append(tag)  \n",
    "    \n",
    "    # Tidy up the retrieved outputs\n",
    "    author_url = 'http://quotes.toscrape.com' + author_url\n",
    "    tags = ';'.join(tags_ls)\n",
    "    \n",
    "    # Store the results\n",
    "    results_dt = {\n",
    "    'author': author,\n",
    "    'author_url': author_url,\n",
    "    'tags': ';'.join(tags_ls), \n",
    "    'quote_text': quote_text\n",
    "    }\n",
    "    \n",
    "    return results_dt"
   ]
  },
  {
   "cell_type": "markdown",
   "metadata": {},
   "source": [
    "## Test the function"
   ]
  },
  {
   "cell_type": "code",
   "execution_count": null,
   "metadata": {},
   "outputs": [],
   "source": [
    "quote_test = '''\n",
    "<div class=\"quote\" itemscope=\"\" itemtype=\"http://schema.org/CreativeWork\">\n",
    "  <span class=\"text\">“It is our choices, Harry, that show what we truly are, far more than our abilities.”</span>\n",
    "  <span>by <small class=\"author\">J.K. Rowling</small>\n",
    "    <a href=\"/author/J-K-Rowling\">(about)</a>\n",
    "  </span>\n",
    "  <div class=\"tags\">\n",
    "    Tags:\n",
    "    <a class=\"tag\" href=\"/tag/abilities/page/1/\">abilities</a>\n",
    "    <a class=\"tag\" href=\"/tag/choices/page/1/\">choices</a>\n",
    "  </div>\n",
    "</div>\n",
    "'''"
   ]
  },
  {
   "cell_type": "code",
   "execution_count": null,
   "metadata": {},
   "outputs": [],
   "source": []
  },
  {
   "cell_type": "code",
   "execution_count": null,
   "metadata": {},
   "outputs": [],
   "source": []
  }
 ],
 "metadata": {
  "kernelspec": {
   "display_name": "Python 3",
   "language": "python",
   "name": "python3"
  },
  "language_info": {
   "codemirror_mode": {
    "name": "ipython",
    "version": 3
   },
   "file_extension": ".py",
   "mimetype": "text/x-python",
   "name": "python",
   "nbconvert_exporter": "python",
   "pygments_lexer": "ipython3",
   "version": "3.7.3"
  }
 },
 "nbformat": 4,
 "nbformat_minor": 2
}
