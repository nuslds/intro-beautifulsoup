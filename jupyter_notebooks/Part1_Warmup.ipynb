{
 "cells": [
  {
   "cell_type": "markdown",
   "metadata": {},
   "source": [
    "## 1. Defining a variable\n",
    "This is the way how you define a variable in Python.\n",
    "<br>\n",
    "Run the cell, and insert a new cell to **`print`** the value of `my_first_code`."
   ]
  },
  {
   "cell_type": "code",
   "execution_count": null,
   "metadata": {},
   "outputs": [],
   "source": [
    "my_first_string = 'Hello'"
   ]
  },
  {
   "cell_type": "markdown",
   "metadata": {},
   "source": [
    "## 2. Data types\n",
    "Below shows three common data types in python.<br>"
   ]
  },
  {
   "cell_type": "code",
   "execution_count": null,
   "metadata": {},
   "outputs": [],
   "source": [
    "this_integer = 1688\n",
    "\n",
    "this_float = 1688.00\n",
    "\n",
    "this_string = 'NUS Libraries'"
   ]
  },
  {
   "cell_type": "markdown",
   "metadata": {},
   "source": [
    "Below shows an example of how to view the data type of a variable using the **`type`** function.\n",
    "Run the cell and see what's the output."
   ]
  },
  {
   "cell_type": "code",
   "execution_count": null,
   "metadata": {},
   "outputs": [],
   "source": [
    "print(type(this_integer))"
   ]
  },
  {
   "cell_type": "markdown",
   "metadata": {},
   "source": [
    "In the cell below, print the types of `this_float` and `this_string`."
   ]
  },
  {
   "cell_type": "code",
   "execution_count": null,
   "metadata": {},
   "outputs": [],
   "source": []
  },
  {
   "cell_type": "markdown",
   "metadata": {},
   "source": [
    "## 3. Data structures"
   ]
  },
  {
   "cell_type": "markdown",
   "metadata": {},
   "source": [
    "Now take a look at `list` and `dict`, two common data structures in Python."
   ]
  },
  {
   "cell_type": "markdown",
   "metadata": {},
   "source": [
    "### 3.1 Lists"
   ]
  },
  {
   "cell_type": "markdown",
   "metadata": {},
   "source": [
    "`fruits` is defined as a **list** of fruits."
   ]
  },
  {
   "cell_type": "code",
   "execution_count": null,
   "metadata": {},
   "outputs": [],
   "source": [
    "fruits = ['Apple', 'Pear', 'Peach', 'Pineapple', 'Durian']"
   ]
  },
  {
   "cell_type": "markdown",
   "metadata": {},
   "source": [
    "#### Accesse a value in a list\n",
    "In the cell below, print the **2nd element** of the list."
   ]
  },
  {
   "cell_type": "code",
   "execution_count": null,
   "metadata": {},
   "outputs": [],
   "source": []
  },
  {
   "cell_type": "markdown",
   "metadata": {},
   "source": [
    "#### Add an element the end of the list\n",
    "`list.append(ele)`\n",
    "<br>Run the cell below to add a new element \"Melon\" to `fruits`.<br>\n",
    "Next, insert a cell below to `print` the list."
   ]
  },
  {
   "cell_type": "code",
   "execution_count": null,
   "metadata": {},
   "outputs": [],
   "source": [
    "fruits.append('Melon')"
   ]
  },
  {
   "cell_type": "markdown",
   "metadata": {},
   "source": [
    "#### Append a list to an existing list\n",
    "`list_A += list_B`\n",
    "<br>Run the cell below to append the list `fruits_add` to the list `fruits`.<br>\n",
    "Next, insert a cell below to `print` the list."
   ]
  },
  {
   "cell_type": "code",
   "execution_count": null,
   "metadata": {},
   "outputs": [],
   "source": [
    "fruits_add = ['Grapefruit', 'Banana']\n",
    "fruits += fruits_add"
   ]
  },
  {
   "cell_type": "markdown",
   "metadata": {},
   "source": [
    "#### Join elements in a list\n",
    "Sometimes you may want to convert your list to a string.<br>\n",
    "Below examples show how you can join elements in a list with a specified separator.\n",
    "`{separator}.join(list)`"
   ]
  },
  {
   "cell_type": "code",
   "execution_count": null,
   "metadata": {},
   "outputs": [],
   "source": [
    "print(';'.join(fruits))"
   ]
  },
  {
   "cell_type": "code",
   "execution_count": null,
   "metadata": {},
   "outputs": [],
   "source": [
    "print(type(fruits))\n",
    "print(type(fruits_string))"
   ]
  },
  {
   "cell_type": "markdown",
   "metadata": {},
   "source": [
    "In the cell below, change the separator to \"||\". Run the cell to see the outputs."
   ]
  },
  {
   "cell_type": "code",
   "execution_count": null,
   "metadata": {},
   "outputs": [],
   "source": [
    "print(';'.join(fruits))"
   ]
  },
  {
   "cell_type": "markdown",
   "metadata": {},
   "source": [
    "### 3.2 Dictionaries"
   ]
  },
  {
   "cell_type": "markdown",
   "metadata": {},
   "source": [
    "**Dictionary** is another type of data structure. \n",
    "<br>You can think of it as a **list of key:value pairs**. It makes it possible to recall a value by its key instead of using an index number.\n",
    "<br>Below is an example of a dictionary."
   ]
  },
  {
   "cell_type": "code",
   "execution_count": null,
   "metadata": {},
   "outputs": [],
   "source": [
    "fruits_color = {\n",
    "    'apple': 'red',\n",
    "    'peach': 'pink',\n",
    "    'grape': 'purple'\n",
    "}"
   ]
  },
  {
   "cell_type": "markdown",
   "metadata": {},
   "source": [
    "The example below shows how to retrieve the clour of `peach` from the `fruits_color`."
   ]
  },
  {
   "cell_type": "code",
   "execution_count": null,
   "metadata": {},
   "outputs": [],
   "source": [
    "print(fruits_color['peach'])"
   ]
  },
  {
   "cell_type": "markdown",
   "metadata": {},
   "source": [
    "In the cell below, retrieve the value of `grape` from `fruits_color`."
   ]
  },
  {
   "cell_type": "code",
   "execution_count": null,
   "metadata": {},
   "outputs": [],
   "source": []
  },
  {
   "cell_type": "markdown",
   "metadata": {},
   "source": [
    "## 4. For loops\n",
    "A **for loop** is used to iterate, or do something repeatedly.\n",
    "\n",
    "#### Why indentation?\n",
    "Python recognises blocks of code by indents. To indicate a block of code, you should always indent each line of the block by four spaces."
   ]
  },
  {
   "cell_type": "code",
   "execution_count": null,
   "metadata": {},
   "outputs": [],
   "source": [
    "print(fruits[0])\n",
    "print(fruits[1])\n",
    "print(fruits[2])\n",
    "print(fruits[3])\n",
    "print(fruits[4])\n",
    "print(fruits[5])"
   ]
  },
  {
   "cell_type": "code",
   "execution_count": null,
   "metadata": {},
   "outputs": [],
   "source": [
    "for ele in fruits:\n",
    "    print(ele)"
   ]
  },
  {
   "cell_type": "markdown",
   "metadata": {},
   "source": [
    "### 5. Defining a function\n",
    "\n",
    "#### Function Header\n",
    "\n",
    "- The function header always starts with a \"def\", which indicates that this is a function definition.\n",
    "- Followed by the \"def\", we should have the function name, e.g., \"get_len\" in the example below\n",
    "- After the name of the function, there are parentheses that include the arguments, multiple arguments are separated by commas.\n",
    "- The header always ends with a colon \":\".\n",
    "\n",
    "#### Function Body\n",
    "\n",
    "- The body of a function is the code indented (4 spaces) after the header line.\n",
    "- The function body usually includes a return statement to return the output value from the function. If there is no return statement, the function simply returns None."
   ]
  },
  {
   "cell_type": "markdown",
   "metadata": {},
   "source": [
    "Below is a function that generates a list of numbers in sequence using the `range`."
   ]
  },
  {
   "cell_type": "code",
   "execution_count": null,
   "metadata": {},
   "outputs": [],
   "source": [
    "def generate_numbers(start, stop):\n",
    "    # add 1 to the endpoint to get it included in the list\n",
    "    numbers_range = range(start, stop + 1)\n",
    "    numbers_list = list(numbers_range)\n",
    "    return numbers_list"
   ]
  },
  {
   "cell_type": "code",
   "execution_count": null,
   "metadata": {},
   "outputs": [],
   "source": [
    "print(generate_numbers(5, 199))"
   ]
  },
  {
   "cell_type": "markdown",
   "metadata": {},
   "source": [
    "`range(start, stop)` is a built-in function in python that generates a sequence of numbers over time.\n",
    "- `start` refers to the starting point of the sequence.\n",
    "- `stop` refers to the endpoint of the sequence. The number indicated as the endpoint is not included. For e.g., `range(1, 5)` will only include numbers 1, 2, 3, 4.\n",
    "- If `start` is not indicated, it defaults to 0. For e.g., `range(4)` will include numbers 0, 1, 2, 3."
   ]
  },
  {
   "cell_type": "code",
   "execution_count": null,
   "metadata": {},
   "outputs": [],
   "source": [
    "print(range(5))\n",
    "print(list(range(5)))\n",
    "print(list(range(1, 5)))"
   ]
  },
  {
   "cell_type": "code",
   "execution_count": null,
   "metadata": {},
   "outputs": [],
   "source": []
  }
 ],
 "metadata": {
  "kernelspec": {
   "display_name": "Python 3",
   "language": "python",
   "name": "python3"
  },
  "language_info": {
   "codemirror_mode": {
    "name": "ipython",
    "version": 3
   },
   "file_extension": ".py",
   "mimetype": "text/x-python",
   "name": "python",
   "nbconvert_exporter": "python",
   "pygments_lexer": "ipython3",
   "version": "3.7.3"
  }
 },
 "nbformat": 4,
 "nbformat_minor": 2
}
